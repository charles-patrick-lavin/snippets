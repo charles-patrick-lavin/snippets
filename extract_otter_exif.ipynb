{
 "cells": [
  {
   "cell_type": "code",
   "execution_count": 1,
   "id": "34417e59-f4d4-4d3b-9314-19f2ee1bb5fb",
   "metadata": {},
   "outputs": [],
   "source": [
    "import glob\n",
    "import os\n",
    "\n",
    "import geopandas as gpd\n",
    "import numpy as np\n",
    "import pandas as pd\n",
    "from PIL import Image\n",
    "from PIL.ExifTags import GPSTAGS, TAGS"
   ]
  },
  {
   "cell_type": "code",
   "execution_count": 2,
   "id": "273cc928-9cd2-46ab-b3b7-a7519ac34763",
   "metadata": {},
   "outputs": [
    {
     "data": {
      "text/plain": [
       "'/home/fc-3auid-3a3e374aa8-2d8490-2d41b8-2da9a3-2d13bf25a58fdb/CPL_NIVA_SeaBee/snippets'"
      ]
     },
     "execution_count": 2,
     "metadata": {},
     "output_type": "execute_result"
    }
   ],
   "source": [
    "os.getcwd()"
   ]
  },
  {
   "cell_type": "markdown",
   "id": "e7efc79b-f7ae-49e7-b12f-5cf8873bdd55",
   "metadata": {},
   "source": [
    "# Extract Otter data to a point shapefile\n",
    "\n",
    "The Otter has a GoPro recording video files. Øyvind has extracted individual frames from the videos and geotagged them with the Otter's location.\n",
    "\n",
    "This notebook assumes that:\n",
    "\n",
    " 1. The raw Otter images are hosted somewhere on the SeaBee MinIO. For this test, I have uploaded Øyvind's images to `hub-test-bucket/otter_test/runde_20220901/gopro_images`.\n",
    " \n",
    " 2. You have also downloaded the images locally (because ArcGIS cannot handle images hosted online in non-public locations).\n",
    " \n",
    "The code below generates a point shapefile with one point for every $n$ th image from the Otter. The shapefile attribute table includes a local path for each image (i.e. the location on the user's local computer), making it possible to [configure image popups in ArcGIS Pro](https://pro.arcgis.com/en/pro-app/latest/help/mapping/navigation/configure-pop-ups.htm).\n",
    "\n",
    "Workflow:\n",
    "\n",
    " 1. First, make sure you have downloaded the images to your local PC. \n",
    " \n",
    " 2. Adjust the user settings in section 1 below and run the notebook to create a shapefile for your system.\n",
    " \n",
    " 3. Download the shapefile to your local PC (the one running ArcGIS Pro) and add it to your map.\n",
    " \n",
    " 4. Configure image popups as described [here](https://pro.arcgis.com/en/pro-app/latest/help/mapping/navigation/configure-pop-ups.htm)."
   ]
  },
  {
   "cell_type": "code",
   "execution_count": 3,
   "id": "10af6b57-09bf-42dd-8f4a-de2842e47f1b",
   "metadata": {},
   "outputs": [],
   "source": [
    "def get_exif_data(image_path):\n",
    "    \"\"\"Get embedded EXIF data from an image file.\"\"\"\n",
    "    exif_data = {}\n",
    "    img = Image.open(image_path)\n",
    "    info = img._getexif()\n",
    "    if info:\n",
    "        for tag, value in info.items():\n",
    "            decoded = TAGS.get(tag, tag)\n",
    "            exif_data[decoded] = value\n",
    "    return exif_data\n",
    "\n",
    "\n",
    "def convert_to_degrees(value):\n",
    "    \"\"\"Convert GPS coordinates to degrees in float format.\"\"\"\n",
    "    d = float(value[0].numerator) / float(value[0].denominator)\n",
    "    m = float(value[1].numerator) / float(value[1].denominator)\n",
    "    s = float(value[2].numerator) / float(value[2].denominator)\n",
    "    return d + (m / 60.0) + (s / 3600.0)\n",
    "\n",
    "\n",
    "def get_gps_info(exif_data):\n",
    "    \"\"\"Extract GPS information from EXIF data.\"\"\"\n",
    "    if \"GPSInfo\" not in exif_data:\n",
    "        return None\n",
    "\n",
    "    gps_info = {}\n",
    "    for key in exif_data[\"GPSInfo\"].keys():\n",
    "        decode = GPSTAGS.get(key, key)\n",
    "        gps_info[decode] = exif_data[\"GPSInfo\"][key]\n",
    "\n",
    "    if (\n",
    "        \"GPSLatitude\" in gps_info\n",
    "        and \"GPSLongitude\" in gps_info\n",
    "        and \"GPSLatitudeRef\" in gps_info\n",
    "        and \"GPSLongitudeRef\" in gps_info\n",
    "    ):\n",
    "        lat = gps_info[\"GPSLatitude\"]\n",
    "        lon = gps_info[\"GPSLongitude\"]\n",
    "        lat_ref = gps_info[\"GPSLatitudeRef\"]\n",
    "        lon_ref = gps_info[\"GPSLongitudeRef\"]\n",
    "\n",
    "        lat = convert_to_degrees(lat)\n",
    "        lon = convert_to_degrees(lon)\n",
    "\n",
    "        if lat_ref != \"N\":\n",
    "            lat = -lat\n",
    "        if lon_ref != \"E\":\n",
    "            lon = -lon\n",
    "\n",
    "        return lat, lon\n",
    "    return None"
   ]
  },
  {
   "cell_type": "markdown",
   "id": "ad29c67b-d2c0-40bc-81ac-988230724609",
   "metadata": {},
   "source": [
    "## 1. User input"
   ]
  },
  {
   "cell_type": "code",
   "execution_count": 4,
   "id": "36896dd2-8fc7-4611-a3ee-e9d2c54cf464",
   "metadata": {},
   "outputs": [],
   "source": [
    "# Folder containing geotagged GoPro images on MinIO\n",
    "minio_img_fold = r\"/home/notebook/shared-seabee-ns9879k/hub-test-bucket/otter_test/2023-06-25_Olbergholmen/gopro_images\"\n",
    "\n",
    "# Folder containing the same images downloaded to your local machine\n",
    "local_img_fold = r\"C:\\Users\\CPL\\OneDrive - NIVA\\Desktop\\Olberg_Seagrass\\Olberg_Gopro_Images_2023_06_25\\gopro_images\"\n",
    "\n",
    "# Shapefile to create\n",
    "shp_path = r\"/home/fc-3auid-3a3e374aa8-2d8490-2d41b8-2da9a3-2d13bf25a58fdb/CPL_NIVA_SeaBee/snippets/otter_data_olberg_2023_06_25.shp\"\n",
    "\n",
    "# Extract every n-th image e.g. if 'thin' = 20, the shapefile will link every 20th image.\n",
    "thin = 10"
   ]
  },
  {
   "cell_type": "code",
   "execution_count": 9,
   "id": "174c1c13-7a59-4049-9b43-37c670aab459",
   "metadata": {},
   "outputs": [
    {
     "data": {
      "text/html": [
       "<div>\n",
       "<style scoped>\n",
       "    .dataframe tbody tr th:only-of-type {\n",
       "        vertical-align: middle;\n",
       "    }\n",
       "\n",
       "    .dataframe tbody tr th {\n",
       "        vertical-align: top;\n",
       "    }\n",
       "\n",
       "    .dataframe thead th {\n",
       "        text-align: right;\n",
       "    }\n",
       "</style>\n",
       "<table border=\"1\" class=\"dataframe\">\n",
       "  <thead>\n",
       "    <tr style=\"text-align: right;\">\n",
       "      <th></th>\n",
       "      <th>image_path</th>\n",
       "      <th>lat</th>\n",
       "      <th>lon</th>\n",
       "      <th>geometry</th>\n",
       "    </tr>\n",
       "  </thead>\n",
       "  <tbody>\n",
       "    <tr>\n",
       "      <th>0</th>\n",
       "      <td>C:\\Users\\CPL\\OneDrive - NIVA\\Desktop\\Olberg_Se...</td>\n",
       "      <td>59.007528</td>\n",
       "      <td>10.131831</td>\n",
       "      <td>POINT (10.13183 59.00753)</td>\n",
       "    </tr>\n",
       "    <tr>\n",
       "      <th>1</th>\n",
       "      <td>C:\\Users\\CPL\\OneDrive - NIVA\\Desktop\\Olberg_Se...</td>\n",
       "      <td>59.007433</td>\n",
       "      <td>10.131875</td>\n",
       "      <td>POINT (10.13188 59.00743)</td>\n",
       "    </tr>\n",
       "    <tr>\n",
       "      <th>2</th>\n",
       "      <td>C:\\Users\\CPL\\OneDrive - NIVA\\Desktop\\Olberg_Se...</td>\n",
       "      <td>59.007342</td>\n",
       "      <td>10.131919</td>\n",
       "      <td>POINT (10.13192 59.00734)</td>\n",
       "    </tr>\n",
       "    <tr>\n",
       "      <th>3</th>\n",
       "      <td>C:\\Users\\CPL\\OneDrive - NIVA\\Desktop\\Olberg_Se...</td>\n",
       "      <td>59.007272</td>\n",
       "      <td>10.131942</td>\n",
       "      <td>POINT (10.13194 59.00727)</td>\n",
       "    </tr>\n",
       "    <tr>\n",
       "      <th>4</th>\n",
       "      <td>C:\\Users\\CPL\\OneDrive - NIVA\\Desktop\\Olberg_Se...</td>\n",
       "      <td>59.007192</td>\n",
       "      <td>10.132022</td>\n",
       "      <td>POINT (10.13202 59.00719)</td>\n",
       "    </tr>\n",
       "  </tbody>\n",
       "</table>\n",
       "</div>"
      ],
      "text/plain": [
       "                                          image_path        lat        lon  \\\n",
       "0  C:\\Users\\CPL\\OneDrive - NIVA\\Desktop\\Olberg_Se...  59.007528  10.131831   \n",
       "1  C:\\Users\\CPL\\OneDrive - NIVA\\Desktop\\Olberg_Se...  59.007433  10.131875   \n",
       "2  C:\\Users\\CPL\\OneDrive - NIVA\\Desktop\\Olberg_Se...  59.007342  10.131919   \n",
       "3  C:\\Users\\CPL\\OneDrive - NIVA\\Desktop\\Olberg_Se...  59.007272  10.131942   \n",
       "4  C:\\Users\\CPL\\OneDrive - NIVA\\Desktop\\Olberg_Se...  59.007192  10.132022   \n",
       "\n",
       "                    geometry  \n",
       "0  POINT (10.13183 59.00753)  \n",
       "1  POINT (10.13188 59.00743)  \n",
       "2  POINT (10.13192 59.00734)  \n",
       "3  POINT (10.13194 59.00727)  \n",
       "4  POINT (10.13202 59.00719)  "
      ]
     },
     "execution_count": 9,
     "metadata": {},
     "output_type": "execute_result"
    },
    {
     "data": {
      "image/png": "[encoded data removed]",
      "text/plain": [
       "<Figure size 640x480 with 1 Axes>"
      ]
     },
     "metadata": {},
     "output_type": "display_data"
    }
   ],
   "source": [
    "# Identify image files to process\n",
    "search_path = os.path.join(minio_img_fold, \"*_GoPro.jpg\")\n",
    "flist = sorted(glob.glob(search_path))\n",
    "# print(flist)\n",
    "\n",
    "# # Get every n-th file\n",
    "flist = flist[(thin - 1) :: thin]\n",
    "\n",
    "# Loop over files\n",
    "res_dict = {\n",
    "    \"image_path\": [],\n",
    "    \"lat\": [],\n",
    "    \"lon\": [],\n",
    "}\n",
    "for fpath in flist:\n",
    "    fname = os.path.basename(fpath)\n",
    "    exif_data = get_exif_data(fpath)\n",
    "    coords = get_gps_info(exif_data)\n",
    "    if coords:\n",
    "        lat, lon = coords\n",
    "    else:\n",
    "        lat = lon = np.nan\n",
    "    local_path = os.path.join(local_img_fold, fname)\n",
    "    res_dict[\"image_path\"].append(local_path)\n",
    "    res_dict[\"lat\"].append(lat)\n",
    "    res_dict[\"lon\"].append(lon)\n",
    "df = pd.DataFrame(res_dict).dropna(subset=[\"lat\", \"lon\"], how=\"any\")\n",
    "gdf = gpd.GeoDataFrame(\n",
    "    df, geometry=gpd.points_from_xy(df[\"lon\"], df[\"lat\"], crs=\"EPSG:4326\")\n",
    ")\n",
    "gdf.to_file(shp_path)\n",
    "\n",
    "gdf.plot()\n",
    "gdf.head()"
   ]
  },
  {
   "cell_type": "code",
   "execution_count": null,
   "id": "d632fa32-e628-497a-a872-ca7ae28baee3",
   "metadata": {},
   "outputs": [],
   "source": []
  }
 ],
 "metadata": {
  "kernelspec": {
   "display_name": "Python 3 (ipykernel)",
   "language": "python",
   "name": "python3"
  },
  "language_info": {
   "codemirror_mode": {
    "name": "ipython",
    "version": 3
   },
   "file_extension": ".py",
   "mimetype": "text/x-python",
   "name": "python",
   "nbconvert_exporter": "python",
   "pygments_lexer": "ipython3",
   "version": "3.10.6"
  }
 },
 "nbformat": 4,
 "nbformat_minor": 5
}
